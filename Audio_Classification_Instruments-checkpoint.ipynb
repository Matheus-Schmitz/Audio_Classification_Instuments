{
 "cells": [
  {
   "cell_type": "markdown",
   "metadata": {},
   "source": [
    "# Problem Definition"
   ]
  },
  {
   "cell_type": "markdown",
   "metadata": {},
   "source": [
    "Classify instruments from .wav audio files"
   ]
  },
  {
   "cell_type": "markdown",
   "metadata": {},
   "source": [
    "# Dataset"
   ]
  },
  {
   "cell_type": "markdown",
   "metadata": {},
   "source": [
    "https://www.kaggle.com/c/freesound-audio-tagging"
   ]
  },
  {
   "cell_type": "markdown",
   "metadata": {},
   "source": [
    "https://zenodo.org/record/2552860#.XwsJVihKihd"
   ]
  },
  {
   "cell_type": "markdown",
   "metadata": {},
   "source": [
    "# Packages"
   ]
  },
  {
   "cell_type": "code",
   "execution_count": 1,
   "metadata": {},
   "outputs": [],
   "source": [
    "# OS Manipulation\n",
    "import os\n",
    "from glob import glob\n",
    "import argparse\n",
    "from scipy.io import wavfile\n",
    "from tqdm import tqdm\n",
    "import pickle\n",
    "\n",
    "# Basic Python\n",
    "import numpy as np\n",
    "import pandas as pd\n",
    "import matplotlib.pyplot as plt\n",
    "import math\n",
    "\n",
    "# Audio Manipulation\n",
    "import librosa\n",
    "import kapre\n",
    "import python_speech_features as psf\n",
    "from python_speech_features import mfcc, logfbank\n",
    "from librosa.core import resample, to_mono\n",
    "from kapre.time_frequency import Melspectrogram\n",
    "from kapre.utils import Normalization2D\n",
    "\n",
    "# TensorFlow\n",
    "import tensorflow as tf\n",
    "from tensorflow.keras import layers\n",
    "from tensorflow.keras import Sequential\n",
    "from tensorflow.keras.layers import Conv2D, MaxPool2D, Flatten, LSTM, Bidirectional\n",
    "from tensorflow.keras.layers import Dropout, Dense, TimeDistributed\n",
    "from tensorflow.keras.models import Model\n",
    "from tensorflow.keras.models import load_model\n",
    "from tensorflow.keras.regularizers import l2\n",
    "from tensorflow.keras.callbacks import CSVLogger, ModelCheckpoint\n",
    "from tensorflow.keras.utils import to_categorical\n",
    "\n",
    "# Sklearn\n",
    "from sklearn.utils.class_weight import compute_class_weight\n",
    "from sklearn.preprocessing import LabelEncoder\n",
    "from sklearn.model_selection import train_test_split\n",
    "from sklearn.metrics import accuracy_score"
   ]
  },
  {
   "cell_type": "markdown",
   "metadata": {},
   "source": [
    "# Exploratory Analysis"
   ]
  },
  {
   "cell_type": "code",
   "execution_count": 2,
   "metadata": {},
   "outputs": [
    {
     "data": {
      "text/html": [
       "<div>\n",
       "<style scoped>\n",
       "    .dataframe tbody tr th:only-of-type {\n",
       "        vertical-align: middle;\n",
       "    }\n",
       "\n",
       "    .dataframe tbody tr th {\n",
       "        vertical-align: top;\n",
       "    }\n",
       "\n",
       "    .dataframe thead th {\n",
       "        text-align: right;\n",
       "    }\n",
       "</style>\n",
       "<table border=\"1\" class=\"dataframe\">\n",
       "  <thead>\n",
       "    <tr style=\"text-align: right;\">\n",
       "      <th></th>\n",
       "      <th>label</th>\n",
       "    </tr>\n",
       "    <tr>\n",
       "      <th>fname</th>\n",
       "      <th></th>\n",
       "    </tr>\n",
       "  </thead>\n",
       "  <tbody>\n",
       "    <tr>\n",
       "      <th>5388d14d.wav</th>\n",
       "      <td>Saxophone</td>\n",
       "    </tr>\n",
       "    <tr>\n",
       "      <th>c685f05f.wav</th>\n",
       "      <td>Saxophone</td>\n",
       "    </tr>\n",
       "    <tr>\n",
       "      <th>36d20ab5.wav</th>\n",
       "      <td>Saxophone</td>\n",
       "    </tr>\n",
       "    <tr>\n",
       "      <th>d6665734.wav</th>\n",
       "      <td>Saxophone</td>\n",
       "    </tr>\n",
       "    <tr>\n",
       "      <th>7352e28f.wav</th>\n",
       "      <td>Saxophone</td>\n",
       "    </tr>\n",
       "    <tr>\n",
       "      <th>...</th>\n",
       "      <td>...</td>\n",
       "    </tr>\n",
       "    <tr>\n",
       "      <th>3c713bcf.wav</th>\n",
       "      <td>Clarinet</td>\n",
       "    </tr>\n",
       "    <tr>\n",
       "      <th>2fc00271.wav</th>\n",
       "      <td>Clarinet</td>\n",
       "    </tr>\n",
       "    <tr>\n",
       "      <th>b0c06255.wav</th>\n",
       "      <td>Clarinet</td>\n",
       "    </tr>\n",
       "    <tr>\n",
       "      <th>71c6451f.wav</th>\n",
       "      <td>Clarinet</td>\n",
       "    </tr>\n",
       "    <tr>\n",
       "      <th>5de123c3.wav</th>\n",
       "      <td>Clarinet</td>\n",
       "    </tr>\n",
       "  </tbody>\n",
       "</table>\n",
       "<p>300 rows × 1 columns</p>\n",
       "</div>"
      ],
      "text/plain": [
       "                  label\n",
       "fname                  \n",
       "5388d14d.wav  Saxophone\n",
       "c685f05f.wav  Saxophone\n",
       "36d20ab5.wav  Saxophone\n",
       "d6665734.wav  Saxophone\n",
       "7352e28f.wav  Saxophone\n",
       "...                 ...\n",
       "3c713bcf.wav   Clarinet\n",
       "2fc00271.wav   Clarinet\n",
       "b0c06255.wav   Clarinet\n",
       "71c6451f.wav   Clarinet\n",
       "5de123c3.wav   Clarinet\n",
       "\n",
       "[300 rows x 1 columns]"
      ]
     },
     "execution_count": 2,
     "metadata": {},
     "output_type": "execute_result"
    }
   ],
   "source": [
    "# Read the csv matching file name to label\n",
    "df = pd.read_csv('instruments.csv')\n",
    "df.set_index('fname', inplace=True)\n",
    "df"
   ]
  },
  {
   "cell_type": "code",
   "execution_count": 3,
   "metadata": {},
   "outputs": [
    {
     "data": {
      "text/html": [
       "<div>\n",
       "<style scoped>\n",
       "    .dataframe tbody tr th:only-of-type {\n",
       "        vertical-align: middle;\n",
       "    }\n",
       "\n",
       "    .dataframe tbody tr th {\n",
       "        vertical-align: top;\n",
       "    }\n",
       "\n",
       "    .dataframe thead th {\n",
       "        text-align: right;\n",
       "    }\n",
       "</style>\n",
       "<table border=\"1\" class=\"dataframe\">\n",
       "  <thead>\n",
       "    <tr style=\"text-align: right;\">\n",
       "      <th></th>\n",
       "      <th>label</th>\n",
       "      <th>length</th>\n",
       "    </tr>\n",
       "    <tr>\n",
       "      <th>fname</th>\n",
       "      <th></th>\n",
       "      <th></th>\n",
       "    </tr>\n",
       "  </thead>\n",
       "  <tbody>\n",
       "    <tr>\n",
       "      <th>5388d14d.wav</th>\n",
       "      <td>Saxophone</td>\n",
       "      <td>4.14</td>\n",
       "    </tr>\n",
       "    <tr>\n",
       "      <th>c685f05f.wav</th>\n",
       "      <td>Saxophone</td>\n",
       "      <td>1.54</td>\n",
       "    </tr>\n",
       "    <tr>\n",
       "      <th>36d20ab5.wav</th>\n",
       "      <td>Saxophone</td>\n",
       "      <td>4.90</td>\n",
       "    </tr>\n",
       "    <tr>\n",
       "      <th>d6665734.wav</th>\n",
       "      <td>Saxophone</td>\n",
       "      <td>10.50</td>\n",
       "    </tr>\n",
       "    <tr>\n",
       "      <th>7352e28f.wav</th>\n",
       "      <td>Saxophone</td>\n",
       "      <td>6.24</td>\n",
       "    </tr>\n",
       "    <tr>\n",
       "      <th>...</th>\n",
       "      <td>...</td>\n",
       "      <td>...</td>\n",
       "    </tr>\n",
       "    <tr>\n",
       "      <th>3c713bcf.wav</th>\n",
       "      <td>Clarinet</td>\n",
       "      <td>6.14</td>\n",
       "    </tr>\n",
       "    <tr>\n",
       "      <th>2fc00271.wav</th>\n",
       "      <td>Clarinet</td>\n",
       "      <td>4.20</td>\n",
       "    </tr>\n",
       "    <tr>\n",
       "      <th>b0c06255.wav</th>\n",
       "      <td>Clarinet</td>\n",
       "      <td>4.08</td>\n",
       "    </tr>\n",
       "    <tr>\n",
       "      <th>71c6451f.wav</th>\n",
       "      <td>Clarinet</td>\n",
       "      <td>3.56</td>\n",
       "    </tr>\n",
       "    <tr>\n",
       "      <th>5de123c3.wav</th>\n",
       "      <td>Clarinet</td>\n",
       "      <td>3.34</td>\n",
       "    </tr>\n",
       "  </tbody>\n",
       "</table>\n",
       "<p>300 rows × 2 columns</p>\n",
       "</div>"
      ],
      "text/plain": [
       "                  label  length\n",
       "fname                          \n",
       "5388d14d.wav  Saxophone    4.14\n",
       "c685f05f.wav  Saxophone    1.54\n",
       "36d20ab5.wav  Saxophone    4.90\n",
       "d6665734.wav  Saxophone   10.50\n",
       "7352e28f.wav  Saxophone    6.24\n",
       "...                 ...     ...\n",
       "3c713bcf.wav   Clarinet    6.14\n",
       "2fc00271.wav   Clarinet    4.20\n",
       "b0c06255.wav   Clarinet    4.08\n",
       "71c6451f.wav   Clarinet    3.56\n",
       "5de123c3.wav   Clarinet    3.34\n",
       "\n",
       "[300 rows x 2 columns]"
      ]
     },
     "execution_count": 3,
     "metadata": {},
     "output_type": "execute_result"
    }
   ],
   "source": [
    "# Calculate the total length per instrument to check class balance\n",
    "for f in df.index:\n",
    "    rate, signal = wavfile.read('wavfiles/' + f)\n",
    "    df.at[f, 'length'] = signal.shape[0]/rate\n",
    "\n",
    "df"
   ]
  },
  {
   "cell_type": "code",
   "execution_count": 4,
   "metadata": {},
   "outputs": [
    {
     "data": {
      "text/plain": [
       "label\n",
       "Acoustic_guitar     208.46\n",
       "Bass_drum            58.12\n",
       "Cello               150.02\n",
       "Clarinet            197.88\n",
       "Double_bass          96.18\n",
       "Flute               241.64\n",
       "Hi-hat              100.72\n",
       "Saxophone           213.72\n",
       "Snare_drum          119.62\n",
       "Violin_or_fiddle    135.90\n",
       "Name: length, dtype: float64"
      ]
     },
     "execution_count": 4,
     "metadata": {},
     "output_type": "execute_result"
    }
   ],
   "source": [
    "# Total audio length per class\n",
    "classes = list(np.unique(df.label))\n",
    "class_dist = df.groupby(['label'])['length'].sum()\n",
    "class_dist"
   ]
  },
  {
   "cell_type": "code",
   "execution_count": 5,
   "metadata": {},
   "outputs": [
    {
     "data": {
      "image/png": "[encoded data removed]",
      "text/plain": [
       "<Figure size 432x288 with 1 Axes>"
      ]
     },
     "metadata": {},
     "output_type": "display_data"
    }
   ],
   "source": [
    "# Plot class distribution\n",
    "fig, ax = plt.subplots()\n",
    "ax.set_title('Class Distribution')\n",
    "ax.pie(class_dist, labels = class_dist.index,\n",
    "      autopct='%1.1f%%')\n",
    "ax.axis('equal')\n",
    "plt.show()"
   ]
  },
  {
   "cell_type": "code",
   "execution_count": 6,
   "metadata": {},
   "outputs": [],
   "source": [
    "# Dictionaries to store the data sampled from the audio files\n",
    "# This is for plotting and visualizing the audio data\n",
    "signals = {}\n",
    "fft = {}\n",
    "fbank = {}\n",
    "mfccs = {}"
   ]
  },
  {
   "cell_type": "code",
   "execution_count": 7,
   "metadata": {},
   "outputs": [],
   "source": [
    "# Function to calculate fft (Fast Fourier Transform)\n",
    "def calc_fft(y, rate):\n",
    "    n = len(y)\n",
    "    freq = np.fft.rfftfreq(n, d=1/rate)\n",
    "    Y = abs(np.fft.rfft(y)/n) # magnitude\n",
    "    return (Y, freq)"
   ]
  },
  {
   "cell_type": "code",
   "execution_count": 8,
   "metadata": {},
   "outputs": [],
   "source": [
    "# Extracting sample data\n",
    "\n",
    "# For each class sample one audio file to plot\n",
    "for c in classes:\n",
    "    wav_file = df[df.label == c].index[0] # This gets the file name\n",
    "    signal, rate = librosa.load('wavfiles/'+wav_file, sr = 44100)\n",
    "    signals[c] = signal\n",
    "    fft[c] = calc_fft(signal, rate)\n",
    "    # Usign only the first second to sample for fbank and mfcc\n",
    "    bank = logfbank(signal[:rate], rate, nfilt = 26, nfft = math.ceil(44100/40)).T\n",
    "    fbank[c] = bank\n",
    "    mel = mfcc(signal[:rate], rate, numcep = 13, nfilt = 26, nfft = math.ceil(44100/40)).T\n",
    "    mfccs[c] = mel"
   ]
  },
  {
   "cell_type": "code",
   "execution_count": 9,
   "metadata": {},
   "outputs": [
    {
     "data": {
      "image/png": "[encoded data removed]",
      "text/plain": [
       "<Figure size 1440x360 with 10 Axes>"
      ]
     },
     "metadata": {
      "needs_background": "light"
     },
     "output_type": "display_data"
    }
   ],
   "source": [
    "# Plot signal\n",
    "def plot_signals(signals):\n",
    "    fig, axes = plt.subplots(nrows=2, ncols=5, sharex=False,\n",
    "                             sharey=True, figsize=(20,5))\n",
    "    fig.suptitle('Time Series', size=16)\n",
    "    i = 0\n",
    "    for x in range(2):\n",
    "        for y in range(5):\n",
    "            axes[x,y].set_title(list(signals.keys())[i])\n",
    "            axes[x,y].plot(list(signals.values())[i])\n",
    "            axes[x,y].get_xaxis().set_visible(False)\n",
    "            axes[x,y].get_yaxis().set_visible(False)\n",
    "            i += 1\n",
    "            \n",
    "plot_signals(signals)"
   ]
  },
  {
   "cell_type": "markdown",
   "metadata": {},
   "source": [
    "The data will need to be filtered to remove the dead space in the audio (the thin lines in the beginning/end of the audio files)"
   ]
  },
  {
   "cell_type": "code",
   "execution_count": 10,
   "metadata": {},
   "outputs": [
    {
     "data": {
      "image/png": "[encoded data removed]",
      "text/plain": [
       "<Figure size 1440x360 with 10 Axes>"
      ]
     },
     "metadata": {
      "needs_background": "light"
     },
     "output_type": "display_data"
    }
   ],
   "source": [
    "# Plot fft\n",
    "def plot_fft(fft):\n",
    "    fig, axes = plt.subplots(nrows=2, ncols=5, sharex=False,\n",
    "                             sharey=True, figsize=(20,5))\n",
    "    fig.suptitle('Fourier Transforms', size=16)\n",
    "    i = 0\n",
    "    for x in range(2):\n",
    "        for y in range(5):\n",
    "            data = list(fft.values())[i]\n",
    "            Y, freq = data[0], data[1]\n",
    "            axes[x,y].set_title(list(fft.keys())[i])\n",
    "            axes[x,y].plot(freq, Y)\n",
    "            axes[x,y].get_xaxis().set_visible(False)\n",
    "            axes[x,y].get_yaxis().set_visible(False)\n",
    "            \n",
    "plot_fft(fft)"
   ]
  },
  {
   "cell_type": "code",
   "execution_count": 11,
   "metadata": {},
   "outputs": [
    {
     "data": {
      "image/png": "[encoded data removed]",
      "text/plain": [
       "<Figure size 1440x360 with 10 Axes>"
      ]
     },
     "metadata": {
      "needs_background": "light"
     },
     "output_type": "display_data"
    }
   ],
   "source": [
    "# Plot fbank\n",
    "def plot_fbank(fbank):\n",
    "    fig, axes = plt.subplots(nrows=2, ncols=5, sharex=False,\n",
    "                             sharey=True, figsize=(20,5))\n",
    "    fig.suptitle('Filter Bank Coefficients', size=16)\n",
    "    i = 0\n",
    "    for x in range(2):\n",
    "        for y in range(5):\n",
    "            axes[x,y].set_title(list(fbank.keys())[i])\n",
    "            axes[x,y].imshow(list(fbank.values())[i],\n",
    "                    cmap='hot', interpolation='nearest')\n",
    "            axes[x,y].get_xaxis().set_visible(False)\n",
    "            axes[x,y].get_yaxis().set_visible(False)\n",
    "            i += 1\n",
    "            \n",
    "plot_fbank(fbank)"
   ]
  },
  {
   "cell_type": "code",
   "execution_count": 12,
   "metadata": {},
   "outputs": [
    {
     "data": {
      "image/png": "[encoded data removed]",
      "text/plain": [
       "<Figure size 1440x360 with 10 Axes>"
      ]
     },
     "metadata": {
      "needs_background": "light"
     },
     "output_type": "display_data"
    }
   ],
   "source": [
    "# Plot MFCCs\n",
    "def plot_mfccs(mfccs):\n",
    "    fig, axes = plt.subplots(nrows=2, ncols=5, sharex=False,\n",
    "                             sharey=True, figsize=(20,5))\n",
    "    fig.suptitle('Mel Frequency Cepstrum Coefficients', size=16)\n",
    "    i = 0\n",
    "    for x in range(2):\n",
    "        for y in range(5):\n",
    "            axes[x,y].set_title(list(mfccs.keys())[i])\n",
    "            axes[x,y].imshow(list(mfccs.values())[i],\n",
    "                    cmap='hot', interpolation='nearest')\n",
    "            axes[x,y].get_xaxis().set_visible(False)\n",
    "            axes[x,y].get_yaxis().set_visible(False)\n",
    "            i += 1\n",
    "            \n",
    "plot_mfccs(mfccs)"
   ]
  },
  {
   "cell_type": "code",
   "execution_count": 13,
   "metadata": {},
   "outputs": [],
   "source": [
    "# Creating function to calculate the signal envelope \n",
    "# Then remove dead spaace from the audio with it\n",
    "def envelope(y, rate, threshold = 0.0005): \n",
    "    mask = []\n",
    "    # pd.Series allows for easy rolling window\n",
    "    # Need to take abs values otherwise all negative parts of the audio wave would be removed\n",
    "    y = pd.Series(y).apply(np.abs)\n",
    "    # Window size will be a 10th of a second\n",
    "    y_mean = y.rolling(window = int(rate/10), min_periods = 1, center = True).mean()\n",
    "    for mean in y_mean:\n",
    "        if mean > threshold:\n",
    "            mask.append(True) # Appending true means keep the signal\n",
    "        else:\n",
    "            mask.append(False)\n",
    "    return mask"
   ]
  },
  {
   "cell_type": "code",
   "execution_count": 14,
   "metadata": {},
   "outputs": [
    {
     "data": {
      "image/png": "[encoded data removed]",
      "text/plain": [
       "<Figure size 1440x360 with 10 Axes>"
      ]
     },
     "metadata": {
      "needs_background": "light"
     },
     "output_type": "display_data"
    }
   ],
   "source": [
    "# Plotting the filtered signals\n",
    "signals2 = {}\n",
    "\n",
    "# For each class sample one audio file to plot\n",
    "for c in classes:\n",
    "    wav_file = df[df.label == c].index[0] # This gets the file name\n",
    "    signal, rate = librosa.load('wavfiles/'+wav_file, sr = 44100)\n",
    "    mask = envelope(signal, rate, threshold = 0.0005)\n",
    "    signal = signal[mask]\n",
    "    signals2[c] = signal\n",
    "    \n",
    "plot_signals(signals2)"
   ]
  },
  {
   "cell_type": "markdown",
   "metadata": {},
   "source": [
    "# Preprocessing"
   ]
  },
  {
   "cell_type": "code",
   "execution_count": 15,
   "metadata": {},
   "outputs": [],
   "source": [
    "# Downsampling the audio data to 16000Hz\n",
    "# Since higher frequencies are of little use\n",
    "if len(os.listdir('clean')) == 0:\n",
    "    for f in tqdm(df.index):\n",
    "        signal, rate = librosa.load('wavfiles/'+f, sr = 16000)\n",
    "        mask = envelope (signal, rate, threshold = 0.0005)\n",
    "        wavfile.write(filename='clean/'+f, rate = rate, data = signal[mask])"
   ]
  },
  {
   "cell_type": "code",
   "execution_count": 16,
   "metadata": {},
   "outputs": [
    {
     "data": {
      "image/png": "[encoded data removed]",
      "text/plain": [
       "<Figure size 432x288 with 1 Axes>"
      ]
     },
     "metadata": {},
     "output_type": "display_data"
    }
   ],
   "source": [
    "# Checking class balance for the downsampled data\n",
    "\n",
    "# Read the csv matching file name to label\n",
    "df = pd.read_csv('instruments.csv')\n",
    "df.set_index('fname', inplace=True)\n",
    "\n",
    "# Calculate the total length per instrument to check class balance\n",
    "for f in df.index:\n",
    "    rate, signal = wavfile.read('clean/' + f)\n",
    "    df.at[f, 'length'] = signal.shape[0]/rate\n",
    "\n",
    "# Total audio length per class\n",
    "classes = list(np.unique(df.label))\n",
    "class_dist = df.groupby(['label'])['length'].sum()\n",
    "\n",
    "# Plot class distribution\n",
    "fig, ax = plt.subplots()\n",
    "ax.set_title('Class Distribution')\n",
    "ax.pie(class_dist, labels = class_dist.index,\n",
    "      autopct='%1.1f%%')\n",
    "ax.axis('equal')\n",
    "plt.show()"
   ]
  },
  {
   "cell_type": "markdown",
   "metadata": {},
   "source": [
    "# Model Configuration"
   ]
  },
  {
   "cell_type": "code",
   "execution_count": 17,
   "metadata": {},
   "outputs": [],
   "source": [
    "# Standard nfilt is 26 and nfeat is half that (13)\n",
    "class Config:\n",
    "    def __init__(self, mode='rnn', nfilt=26, nfeat=13, nfft=512, rate=16000):\n",
    "        self.mode = mode\n",
    "        self.nfilt = nfilt\n",
    "        self.nfeat = nfeat\n",
    "        self.nfft = nfft\n",
    "        self.rate = rate\n",
    "        self.step = int(rate/10)\n",
    "        self.model_path = os.path.join('models', mode + '.model')\n",
    "        self.pickle_path = os.path.join('pickles', mode + '.pickle')"
   ]
  },
  {
   "cell_type": "code",
   "execution_count": 18,
   "metadata": {},
   "outputs": [],
   "source": [
    "config = Config()"
   ]
  },
  {
   "cell_type": "code",
   "execution_count": 19,
   "metadata": {},
   "outputs": [
    {
     "data": {
      "text/plain": [
       "13205"
      ]
     },
     "execution_count": 19,
     "metadata": {},
     "output_type": "execute_result"
    }
   ],
   "source": [
    "# Calculating total amount of samples\n",
    "# Sampling data in 10th of a second intervals\n",
    "n_samples = int(df['length'].sum()/0.1)\n",
    "n_samples"
   ]
  },
  {
   "cell_type": "code",
   "execution_count": 20,
   "metadata": {},
   "outputs": [],
   "source": [
    "# Probability distribution for the classes\n",
    "prob_dist = class_dist / class_dist.sum()"
   ]
  },
  {
   "cell_type": "markdown",
   "metadata": {},
   "source": [
    "# CNN Model"
   ]
  },
  {
   "cell_type": "code",
   "execution_count": 21,
   "metadata": {},
   "outputs": [],
   "source": [
    "def get_cnn_model():\n",
    "    model = Sequential()\n",
    "    model.add(Conv2D(16, (3, 3), activation='relu', strides= (1, 1),\n",
    "                    padding='same', input_shape=input_shape))\n",
    "    model.add(Conv2D(32, (3, 3), activation='relu', strides= (1, 1),\n",
    "                    padding='same'))  \n",
    "    model.add(Conv2D(64, (3, 3), activation='relu', strides= (1, 1),\n",
    "                    padding='same')) \n",
    "    model.add(Conv2D(128, (3, 3), activation='relu', strides= (1, 1),\n",
    "                    padding='same')) \n",
    "    model.add(MaxPool2D(pool_size = (2, 2)))\n",
    "    model.add(Dropout(0.5))\n",
    "    model.add(Flatten())\n",
    "    model.add(Dense(128, activation='relu'))\n",
    "    model.add(Dense(64, activation='relu'))\n",
    "    model.add(Dense(32, activation='relu'))\n",
    "    model.add(Dense(10, activation='softmax'))\n",
    "    model.summary()\n",
    "    model.compile(loss='categorical_crossentropy',\n",
    "                 optimizer='adam',\n",
    "                 metrics=['acc'])\n",
    "    return model"
   ]
  },
  {
   "cell_type": "markdown",
   "metadata": {},
   "source": [
    "# RNN Model"
   ]
  },
  {
   "cell_type": "code",
   "execution_count": 22,
   "metadata": {},
   "outputs": [],
   "source": [
    "def get_rnn_model():\n",
    "    #shape of data for RNN is (n, time, feat)\n",
    "    model = Sequential()\n",
    "    model.add(Bidirectional(LSTM(128, return_sequences=True), input_shape=input_shape))\n",
    "    model.add(Bidirectional(LSTM(128, return_sequences=True)))\n",
    "    model.add(Dropout(0.5))\n",
    "    model.add(TimeDistributed(Dense(64, activation='relu')))\n",
    "    model.add(TimeDistributed(Dense(32, activation='relu')))\n",
    "    model.add(TimeDistributed(Dense(16, activation='relu')))\n",
    "    model.add(TimeDistributed(Dense(8, activation='relu')))\n",
    "    model.add(Flatten())\n",
    "    model.add(Dense(10, activation='softmax'))\n",
    "    model.summary()\n",
    "    model.compile(loss='categorical_crossentropy',\n",
    "                 optimizer='adam',\n",
    "                 metrics=['acc'])\n",
    "    return model"
   ]
  },
  {
   "cell_type": "markdown",
   "metadata": {},
   "source": [
    "# Feature Builder"
   ]
  },
  {
   "cell_type": "code",
   "execution_count": 23,
   "metadata": {},
   "outputs": [],
   "source": [
    "# If the features for a given model have already been built, then import them\n",
    "def check_features():\n",
    "    if os.path.isfile(config.pickle_path):\n",
    "        print(f'Loading existing data for {config.mode} model')\n",
    "        with open(config.pickle_path, 'rb') as handle:\n",
    "            tmp = pickle.load(handle)\n",
    "            return tmp"
   ]
  },
  {
   "cell_type": "code",
   "execution_count": 24,
   "metadata": {},
   "outputs": [],
   "source": [
    "# Function to build features, or import them if they are already built\n",
    "def feature_builder():\n",
    "    \n",
    "    # Check if the features have already been built\n",
    "    tmp = check_features()\n",
    "    if tmp:\n",
    "        return tmp.data[0], tmp.data[1]\n",
    "    \n",
    "    # If there's no features to import, then proceeed to building them\n",
    "    X = []\n",
    "    y = []\n",
    "    \n",
    "    # Values for min-max normalizing\n",
    "    _min, _max = float('inf'), -float('inf')\n",
    "    \n",
    "    # Extract the desired amount of samples\n",
    "    for _ in tqdm(range(n_samples)):\n",
    "        \n",
    "        # Choose random class\n",
    "        rand_class = np.random.choice(class_dist.index, p = prob_dist)\n",
    "        \n",
    "        # Choose random sample from that class\n",
    "        file = np.random.choice(df[df.label==rand_class].index)\n",
    "        rate, wav = wavfile.read('clean/'+file)\n",
    "        label = df.at[file, 'label']\n",
    "        \n",
    "        # Pick a random point within the wav file to extract a 10th of a second\n",
    "        rand_index = np.random.randint(0, wav.shape[0]-config.step)\n",
    "        sample = wav[rand_index:rand_index+config.step]\n",
    "        \n",
    "        # Convert signal to MFCC\n",
    "        X_sample = mfcc(sample, rate, numcep=config.nfeat, nfilt=config.nfilt,\n",
    "                       nfft=config.nfft)\n",
    "        \n",
    "        # Update _min and _max values\n",
    "        _min = min(np.amin(X_sample), _min)\n",
    "        _max = max(np.amax(X_sample), _max)\n",
    "        \n",
    "        # Append MFFC features and label to X and y lists\n",
    "        X.append(X_sample)\n",
    "        y.append(classes.index(label)) # Vector position of the class [0-9]\n",
    "    \n",
    "    # Convert the lists to np.arrays\n",
    "    X, y = np.array(X), np.array(y)\n",
    "    \n",
    "    # Min-max scale the features\n",
    "    config.min = _min\n",
    "    config.max = _max\n",
    "    X = (X - _min) / (_max - _min)\n",
    "    \n",
    "    # Depending on NN type return data in a given shape\n",
    "    if config.mode == 'cnn':\n",
    "        X = X.reshape(X.shape[0], X.shape[1], X.shape[2], 1)\n",
    "    if config.mode == 'rnn':\n",
    "        X = X.reshape(X.shape[0], X.shape[1], X.shape[2])\n",
    "    \n",
    "    # One-hot encode labels\n",
    "    y = to_categorical(y, num_classes = len(np.unique(classes)))\n",
    "    \n",
    "    # Store output on an object and save it to disk\n",
    "    config.data = (X, y)\n",
    "    with open(config.pickle_path, 'wb') as handle:\n",
    "        pickle.dump(config, handle)\n",
    "    \n",
    "    return X, y"
   ]
  },
  {
   "cell_type": "code",
   "execution_count": 25,
   "metadata": {},
   "outputs": [
    {
     "name": "stdout",
     "output_type": "stream",
     "text": [
      "Loading existing data for rnn model\n",
      "Model: \"sequential\"\n",
      "_________________________________________________________________\n",
      "Layer (type)                 Output Shape              Param #   \n",
      "=================================================================\n",
      "bidirectional (Bidirectional (None, 9, 256)            145408    \n",
      "_________________________________________________________________\n",
      "bidirectional_1 (Bidirection (None, 9, 256)            394240    \n",
      "_________________________________________________________________\n",
      "dropout (Dropout)            (None, 9, 256)            0         \n",
      "_________________________________________________________________\n",
      "time_distributed (TimeDistri (None, 9, 64)             16448     \n",
      "_________________________________________________________________\n",
      "time_distributed_1 (TimeDist (None, 9, 32)             2080      \n",
      "_________________________________________________________________\n",
      "time_distributed_2 (TimeDist (None, 9, 16)             528       \n",
      "_________________________________________________________________\n",
      "time_distributed_3 (TimeDist (None, 9, 8)              136       \n",
      "_________________________________________________________________\n",
      "flatten (Flatten)            (None, 72)                0         \n",
      "_________________________________________________________________\n",
      "dense_4 (Dense)              (None, 10)                730       \n",
      "=================================================================\n",
      "Total params: 559,570\n",
      "Trainable params: 559,570\n",
      "Non-trainable params: 0\n",
      "_________________________________________________________________\n"
     ]
    }
   ],
   "source": [
    "# Build features according to the NN architecture\n",
    "if config.mode == 'cnn':\n",
    "    X, y = feature_builder()\n",
    "    y_flat = np.argmax(y, axis=1)\n",
    "    input_shape = (X.shape[1], X.shape[2], 1)\n",
    "    model = get_cnn_model()\n",
    "    \n",
    "elif config.mode == 'rnn':\n",
    "    X, y = feature_builder()\n",
    "    y_flat = np.argmax(y, axis=1)\n",
    "    input_shape = (X.shape[1], X.shape[2])\n",
    "    model = get_rnn_model()"
   ]
  },
  {
   "cell_type": "code",
   "execution_count": 26,
   "metadata": {},
   "outputs": [
    {
     "name": "stdout",
     "output_type": "stream",
     "text": [
      "y shape: (13205, 10)\n",
      "X shape: (13205, 9, 13)\n"
     ]
    }
   ],
   "source": [
    "print(f'y shape: {y.shape}')\n",
    "print(f'X shape: {X.shape}')"
   ]
  },
  {
   "cell_type": "markdown",
   "metadata": {},
   "source": [
    "# Weighting Classes"
   ]
  },
  {
   "cell_type": "code",
   "execution_count": 27,
   "metadata": {},
   "outputs": [
    {
     "data": {
      "text/plain": [
       "{0: 0.7681791739383362,\n",
       " 1: 4.401666666666666,\n",
       " 2: 0.9163775156141568,\n",
       " 3: 0.7558672009158558,\n",
       " 4: 1.626231527093596,\n",
       " 5: 0.6243498817966903,\n",
       " 6: 1.5091428571428571,\n",
       " 7: 0.6473039215686275,\n",
       " 8: 1.5108695652173914,\n",
       " 9: 1.03003120124805}"
      ]
     },
     "execution_count": 27,
     "metadata": {},
     "output_type": "execute_result"
    }
   ],
   "source": [
    "# Calculating different weights for each class to combat the class inbalance\n",
    "class_weights = compute_class_weight('balanced', \n",
    "                                     classes=np.unique(y_flat), \n",
    "                                     y=y_flat)\n",
    "\n",
    "# Convert to dictionary as it's the shape required by TensorFlow\n",
    "class_weights_dict = dict(enumerate(class_weights))\n",
    "\n",
    "class_weights_dict"
   ]
  },
  {
   "cell_type": "markdown",
   "metadata": {},
   "source": [
    "# Training Model"
   ]
  },
  {
   "cell_type": "code",
   "execution_count": 28,
   "metadata": {},
   "outputs": [
    {
     "name": "stdout",
     "output_type": "stream",
     "text": [
      "WARNING:tensorflow:`period` argument is deprecated. Please use `save_freq` to specify the frequency in number of batches seen.\n"
     ]
    }
   ],
   "source": [
    "checkpoint = ModelCheckpoint(config.model_path, monitor='val_acc', verbose=1, \n",
    "                             mode='max', save_best_only=True,\n",
    "                             save_weights_only=False, period=1)"
   ]
  },
  {
   "cell_type": "code",
   "execution_count": 29,
   "metadata": {},
   "outputs": [
    {
     "name": "stdout",
     "output_type": "stream",
     "text": [
      "Epoch 1/10\n",
      "370/372 [============================>.] - ETA: 0s - loss: 1.8258 - acc: 0.2674\n",
      "Epoch 00001: val_acc improved from -inf to 0.43528, saving model to models\\rnn.model\n",
      "WARNING:tensorflow:From C:\\Users\\Matheus\\Anaconda3\\lib\\site-packages\\tensorflow\\python\\ops\\resource_variable_ops.py:1817: calling BaseResourceVariable.__init__ (from tensorflow.python.ops.resource_variable_ops) with constraint is deprecated and will be removed in a future version.\n",
      "Instructions for updating:\n",
      "If using Keras pass *_constraint arguments to layers.\n",
      "INFO:tensorflow:Assets written to: models\\rnn.model\\assets\n",
      "372/372 [==============================] - 87s 233ms/step - loss: 1.8244 - acc: 0.2679 - val_loss: 1.4834 - val_acc: 0.4353\n",
      "Epoch 2/10\n",
      "371/372 [============================>.] - ETA: 0s - loss: 1.3389 - acc: 0.4769\n",
      "Epoch 00002: val_acc improved from 0.43528 to 0.55261, saving model to models\\rnn.model\n",
      "INFO:tensorflow:Assets written to: models\\rnn.model\\assets\n",
      "372/372 [==============================] - 85s 228ms/step - loss: 1.3389 - acc: 0.4770 - val_loss: 1.2177 - val_acc: 0.5526\n",
      "Epoch 3/10\n",
      "369/372 [============================>.] - ETA: 0s - loss: 1.0677 - acc: 0.5893\n",
      "Epoch 00003: val_acc improved from 0.55261 to 0.59046, saving model to models\\rnn.model\n",
      "INFO:tensorflow:Assets written to: models\\rnn.model\\assets\n",
      "372/372 [==============================] - 82s 219ms/step - loss: 1.0673 - acc: 0.5893 - val_loss: 1.1596 - val_acc: 0.5905\n",
      "Epoch 4/10\n",
      "368/372 [============================>.] - ETA: 0s - loss: 0.8778 - acc: 0.6673\n",
      "Epoch 00004: val_acc improved from 0.59046 to 0.63285, saving model to models\\rnn.model\n",
      "INFO:tensorflow:Assets written to: models\\rnn.model\\assets\n",
      "372/372 [==============================] - 77s 207ms/step - loss: 0.8782 - acc: 0.6678 - val_loss: 1.0292 - val_acc: 0.6329\n",
      "Epoch 5/10\n",
      "370/372 [============================>.] - ETA: 0s - loss: 0.7625 - acc: 0.7104\n",
      "Epoch 00005: val_acc improved from 0.63285 to 0.73278, saving model to models\\rnn.model\n",
      "INFO:tensorflow:Assets written to: models\\rnn.model\\assets\n",
      "372/372 [==============================] - 81s 218ms/step - loss: 0.7618 - acc: 0.7104 - val_loss: 0.7167 - val_acc: 0.7328\n",
      "Epoch 6/10\n",
      "372/372 [==============================] - ETA: 0s - loss: 0.6666 - acc: 0.7508\n",
      "Epoch 00006: val_acc improved from 0.73278 to 0.76003, saving model to models\\rnn.model\n",
      "INFO:tensorflow:Assets written to: models\\rnn.model\\assets\n",
      "372/372 [==============================] - 82s 220ms/step - loss: 0.6666 - acc: 0.7508 - val_loss: 0.6620 - val_acc: 0.7600\n",
      "Epoch 7/10\n",
      "372/372 [==============================] - ETA: 0s - loss: 0.6216 - acc: 0.7652\n",
      "Epoch 00007: val_acc improved from 0.76003 to 0.77441, saving model to models\\rnn.model\n",
      "INFO:tensorflow:Assets written to: models\\rnn.model\\assets\n",
      "372/372 [==============================] - 83s 222ms/step - loss: 0.6216 - acc: 0.7652 - val_loss: 0.6578 - val_acc: 0.7744\n",
      "Epoch 8/10\n",
      "369/372 [============================>.] - ETA: 0s - loss: 0.5568 - acc: 0.7934\n",
      "Epoch 00008: val_acc improved from 0.77441 to 0.79939, saving model to models\\rnn.model\n",
      "INFO:tensorflow:Assets written to: models\\rnn.model\\assets\n",
      "372/372 [==============================] - 82s 221ms/step - loss: 0.5566 - acc: 0.7933 - val_loss: 0.5693 - val_acc: 0.7994\n",
      "Epoch 9/10\n",
      "371/372 [============================>.] - ETA: 0s - loss: 0.5239 - acc: 0.8073\n",
      "Epoch 00009: val_acc improved from 0.79939 to 0.80015, saving model to models\\rnn.model\n",
      "INFO:tensorflow:Assets written to: models\\rnn.model\\assets\n",
      "372/372 [==============================] - 80s 214ms/step - loss: 0.5243 - acc: 0.8072 - val_loss: 0.5508 - val_acc: 0.8002\n",
      "Epoch 10/10\n",
      "372/372 [==============================] - ETA: 0s - loss: 0.4757 - acc: 0.8226\n",
      "Epoch 00010: val_acc did not improve from 0.80015\n",
      "372/372 [==============================] - 5s 15ms/step - loss: 0.4757 - acc: 0.8226 - val_loss: 0.5256 - val_acc: 0.7903\n",
      "Wall time: 12min 32s\n"
     ]
    },
    {
     "data": {
      "text/plain": [
       "<tensorflow.python.keras.callbacks.History at 0x1497779b288>"
      ]
     },
     "execution_count": 29,
     "metadata": {},
     "output_type": "execute_result"
    }
   ],
   "source": [
    "%%time\n",
    "# Using only 10 epochs as the purpose is learning and experimenting\n",
    "# Definitely would need more epochs (and a bigger dataset) for real applications\n",
    "model.fit(X, y, epochs=10, batch_size=32, shuffle=True,\n",
    "         class_weight = class_weights_dict, validation_split=0.1,\n",
    "         callbacks=[checkpoint])"
   ]
  },
  {
   "cell_type": "code",
   "execution_count": 30,
   "metadata": {},
   "outputs": [
    {
     "name": "stdout",
     "output_type": "stream",
     "text": [
      "INFO:tensorflow:Assets written to: models\\rnn.model\\assets\n"
     ]
    }
   ],
   "source": [
    "# Save model\n",
    "model.save(config.model_path)"
   ]
  },
  {
   "cell_type": "markdown",
   "metadata": {},
   "source": [
    "# Testing Model"
   ]
  },
  {
   "cell_type": "code",
   "execution_count": 31,
   "metadata": {},
   "outputs": [],
   "source": [
    "# True label for each audio file\n",
    "fn2class = dict(zip(df.index, df.label))"
   ]
  },
  {
   "cell_type": "code",
   "execution_count": 32,
   "metadata": {},
   "outputs": [],
   "source": [
    "def make_predictions(audio_dir):\n",
    "    y_true = []\n",
    "    y_pred = []\n",
    "    fn_prob = {}\n",
    "    \n",
    "    print('Extracting features from audio')\n",
    "    # Loop through the audio_dir and extract features to make predictions\n",
    "    for fn in tqdm(os.listdir(audio_dir)):\n",
    "        rate, wav = wavfile.read(os.path.join(audio_dir, fn))\n",
    "        label = fn2class[fn]\n",
    "        c = classes.index(label)\n",
    "        y_prob = []\n",
    "        \n",
    "        # Extract samples of 1/10th of a second (config.step)\n",
    "        for i in range(0, wav.shape[0]-config.step, config.step):\n",
    "            sample = wav[i:i+config.step]\n",
    "            x = mfcc(sample, rate, numcep=config.nfeat,\n",
    "                     nfilt=config.nfilt, nfft=config.nfft)\n",
    "            x = (x - config.min) / (config.max - config.min)\n",
    "            \n",
    "            # Shape features according to the NN to be used in predictions\n",
    "            if config.mode == 'cnn':\n",
    "                x = x.reshape(1, x.shape[0], x.shape[1], 1)\n",
    "            elif config.mode == 'rnn':\n",
    "                x = x.reshape(1, x.shape[0], x.shape[1])\n",
    "            \n",
    "            # Predict\n",
    "            y_hat = model.predict(x)\n",
    "            y_prob.append(y_hat)\n",
    "            y_pred.append(np.argmax(y_hat))\n",
    "            y_true.append(c)\n",
    "        \n",
    "        # For each audio file, calculate the expected class\n",
    "        # by looking at all samples extracted from that audio file\n",
    "        # Then looking at the mean of the probabilities assinged to each class\n",
    "        # across all samples\n",
    "        # And assign the final prediction as the class with highest mean prob\n",
    "        fn_prob[fn] = np.mean(y_prob, axis=0).flatten() # axis=0 means crunch all rows\n",
    "        \n",
    "    return y_true, y_pred, fn_prob"
   ]
  },
  {
   "cell_type": "code",
   "execution_count": 33,
   "metadata": {},
   "outputs": [],
   "source": [
    "# Load model\n",
    "\n",
    "# Set the path to the pickle with the model configs saved after training\n",
    "p_path = os.path.join('pickles', 'rnn.pickle')\n",
    "\n",
    "# Read the pickle path on extract the configs\n",
    "with open(p_path, 'rb') as handle:\n",
    "    config = pickle.load(handle)\n",
    "\n",
    "# Load the model using the path contained on the model configs\n",
    "model = load_model(config.model_path)"
   ]
  },
  {
   "cell_type": "code",
   "execution_count": 34,
   "metadata": {},
   "outputs": [
    {
     "name": "stderr",
     "output_type": "stream",
     "text": [
      "\r",
      "  0%|                                                  | 0/300 [00:00<?, ?it/s]"
     ]
    },
    {
     "name": "stdout",
     "output_type": "stream",
     "text": [
      "Extracting features from audio\n"
     ]
    },
    {
     "name": "stderr",
     "output_type": "stream",
     "text": [
      "100%|████████████████████████████████████████| 300/300 [11:54<00:00,  2.38s/it]\n"
     ]
    }
   ],
   "source": [
    "# Make Predictions (takes around 10 minutes to run)\n",
    "y_true, y_pred, fn_prob = make_predictions('clean')"
   ]
  },
  {
   "cell_type": "code",
   "execution_count": 35,
   "metadata": {},
   "outputs": [
    {
     "name": "stdout",
     "output_type": "stream",
     "text": [
      "Model: rnn \n",
      "Accuracy: 0.7885661736531535\n"
     ]
    }
   ],
   "source": [
    "# Accuracy\n",
    "acc_score = accuracy_score(y_true=y_true, y_pred=y_pred)\n",
    "print(f'Model: {config.mode} \\nAccuracy: {acc_score}')"
   ]
  },
  {
   "cell_type": "code",
   "execution_count": 36,
   "metadata": {},
   "outputs": [],
   "source": [
    "# Retrieve the class probabilities assigned to each audio file\n",
    "y_probs = []\n",
    "class_probs = df.reset_index()\n",
    "for i, row in class_probs.iterrows():\n",
    "    y_prob = fn_prob[row.fname]\n",
    "    y_probs.append(y_prob)\n",
    "    for c, p in zip(classes, y_prob):\n",
    "        class_probs.at[i, c] = p"
   ]
  },
  {
   "cell_type": "code",
   "execution_count": 37,
   "metadata": {},
   "outputs": [],
   "source": [
    "# Retrieve the predicted class assigned to each audio file\n",
    "class_probs['pred_label'] = [classes[np.argmax(y)] for y in y_probs]"
   ]
  },
  {
   "cell_type": "code",
   "execution_count": 38,
   "metadata": {},
   "outputs": [
    {
     "data": {
      "text/html": [
       "<div>\n",
       "<style scoped>\n",
       "    .dataframe tbody tr th:only-of-type {\n",
       "        vertical-align: middle;\n",
       "    }\n",
       "\n",
       "    .dataframe tbody tr th {\n",
       "        vertical-align: top;\n",
       "    }\n",
       "\n",
       "    .dataframe thead th {\n",
       "        text-align: right;\n",
       "    }\n",
       "</style>\n",
       "<table border=\"1\" class=\"dataframe\">\n",
       "  <thead>\n",
       "    <tr style=\"text-align: right;\">\n",
       "      <th></th>\n",
       "      <th>fname</th>\n",
       "      <th>label</th>\n",
       "      <th>length</th>\n",
       "      <th>Acoustic_guitar</th>\n",
       "      <th>Bass_drum</th>\n",
       "      <th>Cello</th>\n",
       "      <th>Clarinet</th>\n",
       "      <th>Double_bass</th>\n",
       "      <th>Flute</th>\n",
       "      <th>Hi-hat</th>\n",
       "      <th>Saxophone</th>\n",
       "      <th>Snare_drum</th>\n",
       "      <th>Violin_or_fiddle</th>\n",
       "      <th>pred_label</th>\n",
       "    </tr>\n",
       "  </thead>\n",
       "  <tbody>\n",
       "    <tr>\n",
       "      <th>0</th>\n",
       "      <td>5388d14d.wav</td>\n",
       "      <td>Saxophone</td>\n",
       "      <td>4.140000</td>\n",
       "      <td>0.005480</td>\n",
       "      <td>3.082544e-02</td>\n",
       "      <td>0.022731</td>\n",
       "      <td>0.009036</td>\n",
       "      <td>0.004488</td>\n",
       "      <td>0.056361</td>\n",
       "      <td>6.499786e-04</td>\n",
       "      <td>0.827634</td>\n",
       "      <td>2.960799e-03</td>\n",
       "      <td>0.039833</td>\n",
       "      <td>Saxophone</td>\n",
       "    </tr>\n",
       "    <tr>\n",
       "      <th>1</th>\n",
       "      <td>c685f05f.wav</td>\n",
       "      <td>Saxophone</td>\n",
       "      <td>1.540000</td>\n",
       "      <td>0.081579</td>\n",
       "      <td>4.798909e-02</td>\n",
       "      <td>0.056393</td>\n",
       "      <td>0.014333</td>\n",
       "      <td>0.007017</td>\n",
       "      <td>0.223479</td>\n",
       "      <td>2.064165e-03</td>\n",
       "      <td>0.438501</td>\n",
       "      <td>7.150301e-02</td>\n",
       "      <td>0.057142</td>\n",
       "      <td>Saxophone</td>\n",
       "    </tr>\n",
       "    <tr>\n",
       "      <th>2</th>\n",
       "      <td>36d20ab5.wav</td>\n",
       "      <td>Saxophone</td>\n",
       "      <td>4.890562</td>\n",
       "      <td>0.001247</td>\n",
       "      <td>3.491234e-04</td>\n",
       "      <td>0.004278</td>\n",
       "      <td>0.001307</td>\n",
       "      <td>0.000493</td>\n",
       "      <td>0.037514</td>\n",
       "      <td>2.029997e-04</td>\n",
       "      <td>0.925200</td>\n",
       "      <td>2.649899e-02</td>\n",
       "      <td>0.002909</td>\n",
       "      <td>Saxophone</td>\n",
       "    </tr>\n",
       "    <tr>\n",
       "      <th>3</th>\n",
       "      <td>d6665734.wav</td>\n",
       "      <td>Saxophone</td>\n",
       "      <td>10.165812</td>\n",
       "      <td>0.037719</td>\n",
       "      <td>5.239314e-03</td>\n",
       "      <td>0.046422</td>\n",
       "      <td>0.006488</td>\n",
       "      <td>0.006410</td>\n",
       "      <td>0.013493</td>\n",
       "      <td>2.198977e-04</td>\n",
       "      <td>0.861803</td>\n",
       "      <td>1.381627e-02</td>\n",
       "      <td>0.008389</td>\n",
       "      <td>Saxophone</td>\n",
       "    </tr>\n",
       "    <tr>\n",
       "      <th>4</th>\n",
       "      <td>7352e28f.wav</td>\n",
       "      <td>Saxophone</td>\n",
       "      <td>6.240000</td>\n",
       "      <td>0.000009</td>\n",
       "      <td>8.320070e-08</td>\n",
       "      <td>0.000966</td>\n",
       "      <td>0.000663</td>\n",
       "      <td>0.000010</td>\n",
       "      <td>0.443220</td>\n",
       "      <td>6.108267e-10</td>\n",
       "      <td>0.555083</td>\n",
       "      <td>9.051767e-09</td>\n",
       "      <td>0.000048</td>\n",
       "      <td>Saxophone</td>\n",
       "    </tr>\n",
       "    <tr>\n",
       "      <th>...</th>\n",
       "      <td>...</td>\n",
       "      <td>...</td>\n",
       "      <td>...</td>\n",
       "      <td>...</td>\n",
       "      <td>...</td>\n",
       "      <td>...</td>\n",
       "      <td>...</td>\n",
       "      <td>...</td>\n",
       "      <td>...</td>\n",
       "      <td>...</td>\n",
       "      <td>...</td>\n",
       "      <td>...</td>\n",
       "      <td>...</td>\n",
       "      <td>...</td>\n",
       "    </tr>\n",
       "    <tr>\n",
       "      <th>295</th>\n",
       "      <td>3c713bcf.wav</td>\n",
       "      <td>Clarinet</td>\n",
       "      <td>5.517938</td>\n",
       "      <td>0.000499</td>\n",
       "      <td>2.732101e-03</td>\n",
       "      <td>0.004622</td>\n",
       "      <td>0.962484</td>\n",
       "      <td>0.001081</td>\n",
       "      <td>0.001874</td>\n",
       "      <td>1.110953e-02</td>\n",
       "      <td>0.002270</td>\n",
       "      <td>6.546672e-03</td>\n",
       "      <td>0.006781</td>\n",
       "      <td>Clarinet</td>\n",
       "    </tr>\n",
       "    <tr>\n",
       "      <th>296</th>\n",
       "      <td>2fc00271.wav</td>\n",
       "      <td>Clarinet</td>\n",
       "      <td>3.786188</td>\n",
       "      <td>0.006414</td>\n",
       "      <td>6.326781e-05</td>\n",
       "      <td>0.008573</td>\n",
       "      <td>0.871211</td>\n",
       "      <td>0.001275</td>\n",
       "      <td>0.009737</td>\n",
       "      <td>3.698399e-02</td>\n",
       "      <td>0.003498</td>\n",
       "      <td>1.538920e-02</td>\n",
       "      <td>0.046855</td>\n",
       "      <td>Clarinet</td>\n",
       "    </tr>\n",
       "    <tr>\n",
       "      <th>297</th>\n",
       "      <td>b0c06255.wav</td>\n",
       "      <td>Clarinet</td>\n",
       "      <td>3.831000</td>\n",
       "      <td>0.002725</td>\n",
       "      <td>1.250853e-05</td>\n",
       "      <td>0.003031</td>\n",
       "      <td>0.829517</td>\n",
       "      <td>0.000060</td>\n",
       "      <td>0.068851</td>\n",
       "      <td>3.907844e-04</td>\n",
       "      <td>0.067601</td>\n",
       "      <td>1.524711e-02</td>\n",
       "      <td>0.012565</td>\n",
       "      <td>Clarinet</td>\n",
       "    </tr>\n",
       "    <tr>\n",
       "      <th>298</th>\n",
       "      <td>71c6451f.wav</td>\n",
       "      <td>Clarinet</td>\n",
       "      <td>2.420875</td>\n",
       "      <td>0.000877</td>\n",
       "      <td>4.755034e-05</td>\n",
       "      <td>0.001618</td>\n",
       "      <td>0.770613</td>\n",
       "      <td>0.000165</td>\n",
       "      <td>0.114673</td>\n",
       "      <td>8.543592e-05</td>\n",
       "      <td>0.042904</td>\n",
       "      <td>5.578151e-03</td>\n",
       "      <td>0.063438</td>\n",
       "      <td>Clarinet</td>\n",
       "    </tr>\n",
       "    <tr>\n",
       "      <th>299</th>\n",
       "      <td>5de123c3.wav</td>\n",
       "      <td>Clarinet</td>\n",
       "      <td>2.931687</td>\n",
       "      <td>0.000534</td>\n",
       "      <td>3.323989e-08</td>\n",
       "      <td>0.000122</td>\n",
       "      <td>0.899812</td>\n",
       "      <td>0.000091</td>\n",
       "      <td>0.009218</td>\n",
       "      <td>2.954115e-07</td>\n",
       "      <td>0.028577</td>\n",
       "      <td>5.378589e-04</td>\n",
       "      <td>0.061107</td>\n",
       "      <td>Clarinet</td>\n",
       "    </tr>\n",
       "  </tbody>\n",
       "</table>\n",
       "<p>300 rows × 14 columns</p>\n",
       "</div>"
      ],
      "text/plain": [
       "            fname      label     length  Acoustic_guitar     Bass_drum  \\\n",
       "0    5388d14d.wav  Saxophone   4.140000         0.005480  3.082544e-02   \n",
       "1    c685f05f.wav  Saxophone   1.540000         0.081579  4.798909e-02   \n",
       "2    36d20ab5.wav  Saxophone   4.890562         0.001247  3.491234e-04   \n",
       "3    d6665734.wav  Saxophone  10.165812         0.037719  5.239314e-03   \n",
       "4    7352e28f.wav  Saxophone   6.240000         0.000009  8.320070e-08   \n",
       "..            ...        ...        ...              ...           ...   \n",
       "295  3c713bcf.wav   Clarinet   5.517938         0.000499  2.732101e-03   \n",
       "296  2fc00271.wav   Clarinet   3.786188         0.006414  6.326781e-05   \n",
       "297  b0c06255.wav   Clarinet   3.831000         0.002725  1.250853e-05   \n",
       "298  71c6451f.wav   Clarinet   2.420875         0.000877  4.755034e-05   \n",
       "299  5de123c3.wav   Clarinet   2.931687         0.000534  3.323989e-08   \n",
       "\n",
       "        Cello  Clarinet  Double_bass     Flute        Hi-hat  Saxophone  \\\n",
       "0    0.022731  0.009036     0.004488  0.056361  6.499786e-04   0.827634   \n",
       "1    0.056393  0.014333     0.007017  0.223479  2.064165e-03   0.438501   \n",
       "2    0.004278  0.001307     0.000493  0.037514  2.029997e-04   0.925200   \n",
       "3    0.046422  0.006488     0.006410  0.013493  2.198977e-04   0.861803   \n",
       "4    0.000966  0.000663     0.000010  0.443220  6.108267e-10   0.555083   \n",
       "..        ...       ...          ...       ...           ...        ...   \n",
       "295  0.004622  0.962484     0.001081  0.001874  1.110953e-02   0.002270   \n",
       "296  0.008573  0.871211     0.001275  0.009737  3.698399e-02   0.003498   \n",
       "297  0.003031  0.829517     0.000060  0.068851  3.907844e-04   0.067601   \n",
       "298  0.001618  0.770613     0.000165  0.114673  8.543592e-05   0.042904   \n",
       "299  0.000122  0.899812     0.000091  0.009218  2.954115e-07   0.028577   \n",
       "\n",
       "       Snare_drum  Violin_or_fiddle pred_label  \n",
       "0    2.960799e-03          0.039833  Saxophone  \n",
       "1    7.150301e-02          0.057142  Saxophone  \n",
       "2    2.649899e-02          0.002909  Saxophone  \n",
       "3    1.381627e-02          0.008389  Saxophone  \n",
       "4    9.051767e-09          0.000048  Saxophone  \n",
       "..            ...               ...        ...  \n",
       "295  6.546672e-03          0.006781   Clarinet  \n",
       "296  1.538920e-02          0.046855   Clarinet  \n",
       "297  1.524711e-02          0.012565   Clarinet  \n",
       "298  5.578151e-03          0.063438   Clarinet  \n",
       "299  5.378589e-04          0.061107   Clarinet  \n",
       "\n",
       "[300 rows x 14 columns]"
      ]
     },
     "execution_count": 38,
     "metadata": {},
     "output_type": "execute_result"
    }
   ],
   "source": [
    "class_probs"
   ]
  },
  {
   "cell_type": "code",
   "execution_count": 39,
   "metadata": {},
   "outputs": [],
   "source": [
    "# Save predictions to csv\n",
    "if config.mode == 'cnn':\n",
    "    class_probs.to_csv('predictions_cnn.csv', index=False)\n",
    "if config.mode == 'rnn':\n",
    "    class_probs.to_csv('predictions_rnn.csv', index=False) "
   ]
  },
  {
   "cell_type": "markdown",
   "metadata": {},
   "source": [
    "# The End"
   ]
  }
 ],
 "metadata": {
  "kernelspec": {
   "display_name": "Python 3",
   "language": "python",
   "name": "python3"
  },
  "language_info": {
   "codemirror_mode": {
    "name": "ipython",
    "version": 3
   },
   "file_extension": ".py",
   "mimetype": "text/x-python",
   "name": "python",
   "nbconvert_exporter": "python",
   "pygments_lexer": "ipython3",
   "version": "3.7.7"
  }
 },
 "nbformat": 4,
 "nbformat_minor": 4
}
